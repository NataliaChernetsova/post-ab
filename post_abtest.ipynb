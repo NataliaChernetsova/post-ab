{
 "cells": [
  {
   "cell_type": "code",
   "execution_count": 59,
   "metadata": {},
   "outputs": [],
   "source": [
    "import pandas as pd\n",
    "from scipy import stats as st\n",
    "import numpy as np\n",
    "import seaborn as sns\n",
    "import matplotlib.pyplot as plt\n",
    "from pylab import rcParams\n",
    "rcParams['figure.figsize'] = 13,6"
   ]
  },
  {
   "cell_type": "code",
   "execution_count": 2,
   "metadata": {},
   "outputs": [],
   "source": [
    "df = pd.read_csv('post_abtest_data.csv')"
   ]
  },
  {
   "cell_type": "code",
   "execution_count": 3,
   "metadata": {},
   "outputs": [],
   "source": [
    "df['converted'] = df['order_made']/df['price_seen']"
   ]
  },
  {
   "cell_type": "code",
   "execution_count": 5,
   "metadata": {},
   "outputs": [],
   "source": [
    "d = (df[df['surge'] == 'surge'].groupby(['group', 'user_id', 'date'])['converted'].mean().unstack().reset_index()\n",
    "         .fillna(0).set_index('user_id'))"
   ]
  },
  {
   "cell_type": "code",
   "execution_count": 34,
   "metadata": {},
   "outputs": [],
   "source": [
    "#удалить лишние строки\n",
    "p = np.random.choice(d[d['group']=='Control'].index,size=60,replace=False)\n",
    "p1 = d.drop(p)"
   ]
  },
  {
   "cell_type": "code",
   "execution_count": 36,
   "metadata": {},
   "outputs": [],
   "source": [
    "res = p1.pivot_table(index=['user_id'], columns='group')\n",
    "res.columns = [' '.join(col).strip() for col in res.columns.values]"
   ]
  },
  {
   "cell_type": "code",
   "execution_count": 37,
   "metadata": {},
   "outputs": [
    {
     "name": "stdout",
     "output_type": "stream",
     "text": [
      "<class 'pandas.core.frame.DataFrame'>\n",
      "Int64Index: 16890 entries, 100093 to 999978\n",
      "Data columns (total 14 columns):\n",
      " #   Column              Non-Null Count  Dtype  \n",
      "---  ------              --------------  -----  \n",
      " 0   2020-05-25 Control  8445 non-null   float64\n",
      " 1   2020-05-25 Test     8445 non-null   float64\n",
      " 2   2020-05-26 Control  8445 non-null   float64\n",
      " 3   2020-05-26 Test     8445 non-null   float64\n",
      " 4   2020-05-27 Control  8445 non-null   float64\n",
      " 5   2020-05-27 Test     8445 non-null   float64\n",
      " 6   2020-05-28 Control  8445 non-null   float64\n",
      " 7   2020-05-28 Test     8445 non-null   float64\n",
      " 8   2020-05-29 Control  8445 non-null   float64\n",
      " 9   2020-05-29 Test     8445 non-null   float64\n",
      " 10  2020-05-30 Control  8445 non-null   float64\n",
      " 11  2020-05-30 Test     8445 non-null   float64\n",
      " 12  2020-05-31 Control  8445 non-null   float64\n",
      " 13  2020-05-31 Test     8445 non-null   float64\n",
      "dtypes: float64(14)\n",
      "memory usage: 1.9 MB\n"
     ]
    }
   ],
   "source": [
    "res.info()"
   ]
  },
  {
   "cell_type": "code",
   "execution_count": 70,
   "metadata": {},
   "outputs": [],
   "source": [
    "result_1 = st.ttest_ind(res['2020-05-25 Control'], res['2020-05-25 Test'], equal_var = False, nan_policy = 'omit')\n",
    "pvalue_1 = result_1[1]"
   ]
  },
  {
   "cell_type": "code",
   "execution_count": 71,
   "metadata": {},
   "outputs": [],
   "source": [
    "result_2 = st.ttest_ind(res['2020-05-26 Control'], res['2020-05-26 Test'], equal_var = False, nan_policy = 'omit')\n",
    "pvalue_2 = result_2[1]"
   ]
  },
  {
   "cell_type": "code",
   "execution_count": 72,
   "metadata": {},
   "outputs": [],
   "source": [
    "result_3 = st.ttest_ind(res['2020-05-27 Control'], res['2020-05-27 Test'], equal_var = False, nan_policy = 'omit')\n",
    "pvalue_3 = result_3[1]"
   ]
  },
  {
   "cell_type": "code",
   "execution_count": 73,
   "metadata": {},
   "outputs": [],
   "source": [
    "result_4 = st.ttest_ind(res['2020-05-28 Control'], res['2020-05-28 Test'], equal_var = False, nan_policy = 'omit')\n",
    "pvalue_4 = result_4[1]"
   ]
  },
  {
   "cell_type": "code",
   "execution_count": 74,
   "metadata": {},
   "outputs": [],
   "source": [
    "result_5 = st.ttest_ind(res['2020-05-29 Control'], res['2020-05-29 Test'], equal_var = False, nan_policy = 'omit')\n",
    "pvalue_5 = result_5[1]"
   ]
  },
  {
   "cell_type": "code",
   "execution_count": 75,
   "metadata": {},
   "outputs": [],
   "source": [
    "result_6 = st.ttest_ind(res['2020-05-30 Control'], res['2020-05-30 Test'], equal_var = False, nan_policy = 'omit')\n",
    "pvalue_6 = result_6[1]"
   ]
  },
  {
   "cell_type": "code",
   "execution_count": 76,
   "metadata": {},
   "outputs": [],
   "source": [
    "result_7 = st.ttest_ind(res['2020-05-31 Control'], res['2020-05-31 Test'], equal_var = False, nan_policy = 'omit')\n",
    "pvalue_7 = result_7[1]"
   ]
  },
  {
   "cell_type": "code",
   "execution_count": 77,
   "metadata": {},
   "outputs": [
    {
     "data": {
      "text/html": [
       "<div>\n",
       "<style scoped>\n",
       "    .dataframe tbody tr th:only-of-type {\n",
       "        vertical-align: middle;\n",
       "    }\n",
       "\n",
       "    .dataframe tbody tr th {\n",
       "        vertical-align: top;\n",
       "    }\n",
       "\n",
       "    .dataframe thead th {\n",
       "        text-align: right;\n",
       "    }\n",
       "</style>\n",
       "<table border=\"1\" class=\"dataframe\">\n",
       "  <thead>\n",
       "    <tr style=\"text-align: right;\">\n",
       "      <th></th>\n",
       "      <th>date</th>\n",
       "      <th>P-value</th>\n",
       "    </tr>\n",
       "  </thead>\n",
       "  <tbody>\n",
       "    <tr>\n",
       "      <th>0</th>\n",
       "      <td>2020-05-25</td>\n",
       "      <td>0.002281</td>\n",
       "    </tr>\n",
       "    <tr>\n",
       "      <th>1</th>\n",
       "      <td>2020-05-26</td>\n",
       "      <td>0.948931</td>\n",
       "    </tr>\n",
       "    <tr>\n",
       "      <th>2</th>\n",
       "      <td>2020-05-27</td>\n",
       "      <td>0.200064</td>\n",
       "    </tr>\n",
       "    <tr>\n",
       "      <th>3</th>\n",
       "      <td>2020-05-28</td>\n",
       "      <td>0.820077</td>\n",
       "    </tr>\n",
       "    <tr>\n",
       "      <th>4</th>\n",
       "      <td>2020-05-29</td>\n",
       "      <td>0.500784</td>\n",
       "    </tr>\n",
       "    <tr>\n",
       "      <th>5</th>\n",
       "      <td>2020-05-30</td>\n",
       "      <td>0.481233</td>\n",
       "    </tr>\n",
       "    <tr>\n",
       "      <th>6</th>\n",
       "      <td>2020-05-31</td>\n",
       "      <td>0.494040</td>\n",
       "    </tr>\n",
       "  </tbody>\n",
       "</table>\n",
       "</div>"
      ],
      "text/plain": [
       "         date   P-value\n",
       "0  2020-05-25  0.002281\n",
       "1  2020-05-26  0.948931\n",
       "2  2020-05-27  0.200064\n",
       "3  2020-05-28  0.820077\n",
       "4  2020-05-29  0.500784\n",
       "5  2020-05-30  0.481233\n",
       "6  2020-05-31  0.494040"
      ]
     },
     "execution_count": 77,
     "metadata": {},
     "output_type": "execute_result"
    }
   ],
   "source": [
    "new = pd.DataFrame({'date' : ['2020-05-25', '2020-05-26', '2020-05-27', '2020-05-28', '2020-05-29', '2020-05-30', '2020-05-31']\n",
    "                   ,'P-value': [pvalue_1, pvalue_2, pvalue_3, pvalue_4, pvalue_5, pvalue_6, pvalue_7]})\n",
    "new"
   ]
  },
  {
   "cell_type": "code",
   "execution_count": 78,
   "metadata": {},
   "outputs": [
    {
     "data": {
      "text/plain": [
       "[<matplotlib.lines.Line2D at 0x1201f31c0>]"
      ]
     },
     "execution_count": 78,
     "metadata": {},
     "output_type": "execute_result"
    },
    {
     "data": {
      "image/png": "[encoded data removed]",
      "text/plain": [
       "<Figure size 936x432 with 1 Axes>"
      ]
     },
     "metadata": {
      "needs_background": "light"
     },
     "output_type": "display_data"
    }
   ],
   "source": [
    "plt.plot(new['date'], new['P-value'])"
   ]
  },
  {
   "cell_type": "markdown",
   "metadata": {},
   "source": [
    "Большинство значений p-value больше уровня значимости 5%\n",
    "Вывывод: между группами разницы нет, значит Понижение коэффициента surge не привило к значимым изменениям "
   ]
  }
 ],
 "metadata": {
  "kernelspec": {
   "display_name": "Python 3",
   "language": "python",
   "name": "python3"
  },
  "language_info": {
   "codemirror_mode": {
    "name": "ipython",
    "version": 3
   },
   "file_extension": ".py",
   "mimetype": "text/x-python",
   "name": "python",
   "nbconvert_exporter": "python",
   "pygments_lexer": "ipython3",
   "version": "3.8.3"
  }
 },
 "nbformat": 4,
 "nbformat_minor": 4
}
